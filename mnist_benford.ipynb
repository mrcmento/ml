{
  "nbformat": 4,
  "nbformat_minor": 0,
  "metadata": {
    "orig_nbformat": 2,
    "kernelspec": {
      "name": "python3",
      "display_name": "Python 3"
    },
    "colab": {
      "name": "mnist_benford.ipynb",
      "provenance": [],
      "collapsed_sections": [],
      "toc_visible": true,
      "include_colab_link": true
    },
    "accelerator": "GPU"
  },
  "cells": [
    {
      "cell_type": "markdown",
      "metadata": {
        "id": "view-in-github",
        "colab_type": "text"
      },
      "source": [
        "<a href=\"https://colab.research.google.com/github/mrcmento/ml/blob/master/mnist_benford.ipynb\" target=\"_parent\"><img src=\"https://colab.research.google.com/assets/colab-badge.svg\" alt=\"Open In Colab\"/></a>"
      ]
    },
    {
      "cell_type": "code",
      "metadata": {
        "id": "XJNtRgT-5y3B",
        "colab_type": "code",
        "colab": {}
      },
      "source": [
        "import tensorflow as tf\n",
        "from tensorflow import keras\n",
        "from os import path, getcwd, chdir\n",
        "import matplotlib.pyplot as plt\n",
        "import numpy as np\n",
        "from math import log10\n",
        "from collections import Counter\n",
        "\n",
        "path = f\"{getcwd()}/mnist.npz\"\n",
        "\n",
        "deviationsL1 = []\n",
        "deviationsL2 = []"
      ],
      "execution_count": null,
      "outputs": []
    },
    {
      "cell_type": "code",
      "metadata": {
        "id": "_U4uJscK5y3H",
        "colab_type": "code",
        "colab": {}
      },
      "source": [
        "def benford_dist(title, s, out_file, deviations):\n",
        "    expected = [log10(1+1/d) for d in range(1,10)]\n",
        "    c = Counter(s)\n",
        "    size = sum(c.values())\n",
        "    res = [c[d]/size for d in range(1,10)]\n",
        "    result = ''\n",
        "    totalDiff = 0\n",
        "    for r, e in zip(res, expected):\n",
        "        totalDiff += abs(r - e)*100.\n",
        "        result += (\"%5.1f%% %5.1f%%  %5.1f%%\" % (r*100., e*100., abs(r - e)*100.))\n",
        "        result += '\\n'\n",
        "    result += '\\n'\n",
        "    deviations.append(totalDiff)\n",
        "    out_file.write('total_diff: ' + str(totalDiff) + '\\n')\n",
        "    out_file.write(\"\\n%s Benfords deviation\\n\" % title)\n",
        "    out_file.write(result)"
      ],
      "execution_count": null,
      "outputs": []
    },
    {
      "cell_type": "code",
      "metadata": {
        "id": "_19cZtps5y3L",
        "colab_type": "code",
        "colab": {}
      },
      "source": [
        "fLayer1 = open(\"benfordLayer1.txt\",\"w+\")\n",
        "fLayer2 = open(\"benfordLayer2.txt\",\"w+\")"
      ],
      "execution_count": null,
      "outputs": []
    },
    {
      "cell_type": "code",
      "metadata": {
        "id": "HIkAAFOt5y3Q",
        "colab_type": "code",
        "colab": {}
      },
      "source": [
        "def write_benford_and_metrics(out_file, layer_number, epoch, logs, deviations):\n",
        "    header = 'epoch ' + str(epoch) + ' accuracy ' + str(logs.get('accuracy')) + ' loss ' + str(logs.get('loss')) \\\n",
        "           + ' val_accuracy ' + str(logs.get('val_accuracy')) + ' val_loss ' + str(logs.get('val_loss')) + '\\n'\n",
        "    out_file.write(header)\n",
        "    weights, biases = model.layers[layer_number].get_weights()\n",
        "    weights_str = np.array(weights,dtype=str) #i was too lazy to find a better way to get the first no zero digit\n",
        "    flat_weights_str = np.array(weights_str).ravel() #flatten\n",
        "    flat_weights_str = [x if x[0] != '-' else x[1:] for x in flat_weights_str] #strip negativ sign\n",
        "    flat_weights_str = [x.replace('.', '').lstrip('0')[0] for x in flat_weights_str] # throw away decimal dot and stip leading zeros\n",
        "    benford_dist('Glorot', np.array(flat_weights_str,dtype=int), out_file, deviations)"
      ],
      "execution_count": null,
      "outputs": []
    },
    {
      "cell_type": "code",
      "metadata": {
        "id": "P6BJ8CAt5y3U",
        "colab_type": "code",
        "colab": {}
      },
      "source": [
        "class myCallback(tf.keras.callbacks.Callback):\n",
        "  def on_epoch_end(self, epoch, logs={}):\n",
        "    write_benford_and_metrics(fLayer1, 1, epoch, logs, deviationsL1)\n",
        "    write_benford_and_metrics(fLayer2, 2, epoch, logs, deviationsL2)"
      ],
      "execution_count": null,
      "outputs": []
    },
    {
      "cell_type": "code",
      "metadata": {
        "tags": [],
        "id": "ze3ogAo-5y3Z",
        "colab_type": "code",
        "colab": {}
      },
      "source": [
        "mnist = tf.keras.datasets.mnist\n",
        "\n",
        "(x_train, y_train),(x_test, y_test) = mnist.load_data(path=path)\n",
        "x_train = x_train/255.0\n",
        "x_test = x_test/255.0\n",
        "\n",
        "model = tf.keras.models.Sequential([\n",
        "    tf.keras.layers.Flatten(),\n",
        "    tf.keras.layers.Dense(64, activation = tf.nn.relu),\n",
        "    tf.keras.layers.Dense(10, activation = tf.nn.softmax)\n",
        "])\n",
        "\n",
        "model.compile(optimizer='adam',\n",
        "              loss='sparse_categorical_crossentropy',\n",
        "              metrics=['accuracy'])\n"
      ],
      "execution_count": null,
      "outputs": []
    },
    {
      "cell_type": "code",
      "metadata": {
        "tags": [],
        "id": "cwI4vWKZ5y3d",
        "colab_type": "code",
        "colab": {
          "base_uri": "https://localhost:8080/",
          "height": 1000
        },
        "outputId": "6c45a4c8-1551-4bab-aba9-85eb780d5448"
      },
      "source": [
        "history = model.fit(x_train, y_train, validation_data=(x_test, y_test), epochs=30, callbacks=[myCallback()])"
      ],
      "execution_count": null,
      "outputs": [
        {
          "output_type": "stream",
          "text": [
            "Epoch 1/30\n",
            "1875/1875 [==============================] - 5s 3ms/step - loss: 0.3100 - accuracy: 0.9126 - val_loss: 0.1729 - val_accuracy: 0.9498\n",
            "Epoch 2/30\n",
            "1875/1875 [==============================] - 5s 3ms/step - loss: 0.1486 - accuracy: 0.9576 - val_loss: 0.1258 - val_accuracy: 0.9652\n",
            "Epoch 3/30\n",
            "1875/1875 [==============================] - 5s 3ms/step - loss: 0.1065 - accuracy: 0.9692 - val_loss: 0.1077 - val_accuracy: 0.9670\n",
            "Epoch 4/30\n",
            "1875/1875 [==============================] - 5s 3ms/step - loss: 0.0834 - accuracy: 0.9755 - val_loss: 0.0961 - val_accuracy: 0.9708\n",
            "Epoch 5/30\n",
            "1875/1875 [==============================] - 5s 3ms/step - loss: 0.0668 - accuracy: 0.9796 - val_loss: 0.0881 - val_accuracy: 0.9734\n",
            "Epoch 6/30\n",
            "1875/1875 [==============================] - 5s 3ms/step - loss: 0.0555 - accuracy: 0.9831 - val_loss: 0.0925 - val_accuracy: 0.9715\n",
            "Epoch 7/30\n",
            "1875/1875 [==============================] - 5s 3ms/step - loss: 0.0472 - accuracy: 0.9853 - val_loss: 0.0894 - val_accuracy: 0.9739\n",
            "Epoch 8/30\n",
            "1875/1875 [==============================] - 5s 3ms/step - loss: 0.0407 - accuracy: 0.9879 - val_loss: 0.0862 - val_accuracy: 0.9747\n",
            "Epoch 9/30\n",
            "1875/1875 [==============================] - 5s 3ms/step - loss: 0.0356 - accuracy: 0.9891 - val_loss: 0.0859 - val_accuracy: 0.9776\n",
            "Epoch 10/30\n",
            "1875/1875 [==============================] - 5s 3ms/step - loss: 0.0318 - accuracy: 0.9902 - val_loss: 0.0883 - val_accuracy: 0.9748\n",
            "Epoch 11/30\n",
            "1875/1875 [==============================] - 5s 3ms/step - loss: 0.0265 - accuracy: 0.9924 - val_loss: 0.0859 - val_accuracy: 0.9772\n",
            "Epoch 12/30\n",
            "1875/1875 [==============================] - 5s 3ms/step - loss: 0.0240 - accuracy: 0.9930 - val_loss: 0.0919 - val_accuracy: 0.9746\n",
            "Epoch 13/30\n",
            "1875/1875 [==============================] - 5s 3ms/step - loss: 0.0212 - accuracy: 0.9935 - val_loss: 0.0968 - val_accuracy: 0.9757\n",
            "Epoch 14/30\n",
            "1875/1875 [==============================] - 5s 3ms/step - loss: 0.0186 - accuracy: 0.9941 - val_loss: 0.0982 - val_accuracy: 0.9755\n",
            "Epoch 15/30\n",
            "1875/1875 [==============================] - 5s 3ms/step - loss: 0.0177 - accuracy: 0.9942 - val_loss: 0.0993 - val_accuracy: 0.9742\n",
            "Epoch 16/30\n",
            "1875/1875 [==============================] - 5s 3ms/step - loss: 0.0144 - accuracy: 0.9955 - val_loss: 0.0965 - val_accuracy: 0.9753\n",
            "Epoch 17/30\n",
            "1875/1875 [==============================] - 5s 3ms/step - loss: 0.0144 - accuracy: 0.9958 - val_loss: 0.0957 - val_accuracy: 0.9770\n",
            "Epoch 18/30\n",
            "1875/1875 [==============================] - 5s 3ms/step - loss: 0.0124 - accuracy: 0.9963 - val_loss: 0.1054 - val_accuracy: 0.9752\n",
            "Epoch 19/30\n",
            "1875/1875 [==============================] - 5s 3ms/step - loss: 0.0110 - accuracy: 0.9970 - val_loss: 0.1038 - val_accuracy: 0.9746\n",
            "Epoch 20/30\n",
            "1875/1875 [==============================] - 5s 3ms/step - loss: 0.0103 - accuracy: 0.9968 - val_loss: 0.1018 - val_accuracy: 0.9754\n",
            "Epoch 21/30\n",
            "1875/1875 [==============================] - 5s 3ms/step - loss: 0.0093 - accuracy: 0.9972 - val_loss: 0.1041 - val_accuracy: 0.9759\n",
            "Epoch 22/30\n",
            "1875/1875 [==============================] - 5s 3ms/step - loss: 0.0079 - accuracy: 0.9976 - val_loss: 0.1099 - val_accuracy: 0.9762\n",
            "Epoch 23/30\n",
            "1875/1875 [==============================] - 5s 3ms/step - loss: 0.0086 - accuracy: 0.9973 - val_loss: 0.1203 - val_accuracy: 0.9758\n",
            "Epoch 24/30\n",
            "1875/1875 [==============================] - 5s 3ms/step - loss: 0.0069 - accuracy: 0.9981 - val_loss: 0.1284 - val_accuracy: 0.9729\n",
            "Epoch 25/30\n",
            "1875/1875 [==============================] - 5s 3ms/step - loss: 0.0063 - accuracy: 0.9979 - val_loss: 0.1220 - val_accuracy: 0.9749\n",
            "Epoch 26/30\n",
            "1875/1875 [==============================] - 5s 3ms/step - loss: 0.0070 - accuracy: 0.9979 - val_loss: 0.1315 - val_accuracy: 0.9733\n",
            "Epoch 27/30\n",
            "1875/1875 [==============================] - 5s 3ms/step - loss: 0.0072 - accuracy: 0.9978 - val_loss: 0.1278 - val_accuracy: 0.9742\n",
            "Epoch 28/30\n",
            "1875/1875 [==============================] - 5s 3ms/step - loss: 0.0060 - accuracy: 0.9981 - val_loss: 0.1259 - val_accuracy: 0.9755\n",
            "Epoch 29/30\n",
            "1875/1875 [==============================] - 6s 3ms/step - loss: 0.0057 - accuracy: 0.9984 - val_loss: 0.1320 - val_accuracy: 0.9749\n",
            "Epoch 30/30\n",
            "1875/1875 [==============================] - 5s 3ms/step - loss: 0.0039 - accuracy: 0.9990 - val_loss: 0.1313 - val_accuracy: 0.9767\n"
          ],
          "name": "stdout"
        }
      ]
    },
    {
      "cell_type": "code",
      "metadata": {
        "id": "psoUKeXH5y3h",
        "colab_type": "code",
        "colab": {
          "base_uri": "https://localhost:8080/",
          "height": 335
        },
        "outputId": "aec94583-50fa-40d6-cfa7-159fd1789766"
      },
      "source": [
        "plt.hist(y_train)"
      ],
      "execution_count": null,
      "outputs": [
        {
          "output_type": "execute_result",
          "data": {
            "text/plain": [
              "(array([5923., 6742., 5958., 6131., 5842., 5421., 5918., 6265., 5851.,\n",
              "        5949.]),\n",
              " array([0. , 0.9, 1.8, 2.7, 3.6, 4.5, 5.4, 6.3, 7.2, 8.1, 9. ]),\n",
              " <a list of 10 Patch objects>)"
            ]
          },
          "metadata": {
            "tags": []
          },
          "execution_count": 35
        },
        {
          "output_type": "display_data",
          "data": {
            "image/png": "[encoded data removed]",
            "text/plain": [
              "<Figure size 432x288 with 1 Axes>"
            ]
          },
          "metadata": {
            "tags": [],
            "needs_background": "light"
          }
        }
      ]
    },
    {
      "cell_type": "code",
      "metadata": {
        "tags": [],
        "id": "BCvix3rZ5y3j",
        "colab_type": "code",
        "colab": {
          "base_uri": "https://localhost:8080/",
          "height": 51
        },
        "outputId": "aab24c74-9ae3-46e1-a93e-25630442ed73"
      },
      "source": [
        "model.evaluate(x_test, y_test)"
      ],
      "execution_count": null,
      "outputs": [
        {
          "output_type": "stream",
          "text": [
            "313/313 [==============================] - 1s 2ms/step - loss: 0.1313 - accuracy: 0.9767\n"
          ],
          "name": "stdout"
        },
        {
          "output_type": "execute_result",
          "data": {
            "text/plain": [
              "[0.131261944770813, 0.9767000079154968]"
            ]
          },
          "metadata": {
            "tags": []
          },
          "execution_count": 36
        }
      ]
    },
    {
      "cell_type": "code",
      "metadata": {
        "id": "YUYHzVJg5y3l",
        "colab_type": "code",
        "colab": {
          "base_uri": "https://localhost:8080/",
          "height": 282
        },
        "outputId": "e4fb2550-cb87-4f65-fb86-65f9744d2db6"
      },
      "source": [
        "plt.plot(history.history['loss'])\n",
        "plt.plot(history.history['val_loss'])\n",
        "plt.plot(np.array(deviationsL1)/100) # otherwise scales are too off\n",
        "plt.plot(np.array(deviationsL2)/100) # otherwise scales are too off"
      ],
      "execution_count": null,
      "outputs": [
        {
          "output_type": "execute_result",
          "data": {
            "text/plain": [
              "[<matplotlib.lines.Line2D at 0x7f7501b8fc50>]"
            ]
          },
          "metadata": {
            "tags": []
          },
          "execution_count": 37
        },
        {
          "output_type": "display_data",
          "data": {
            "image/png": "[encoded data removed]",
            "text/plain": [
              "<Figure size 432x288 with 1 Axes>"
            ]
          },
          "metadata": {
            "tags": [],
            "needs_background": "light"
          }
        }
      ]
    },
    {
      "cell_type": "code",
      "metadata": {
        "tags": [],
        "id": "bN6gc9QB5y3o",
        "colab_type": "code",
        "colab": {
          "base_uri": "https://localhost:8080/",
          "height": 255
        },
        "outputId": "544f5df4-ced9-434b-d2ef-595e90aad54d"
      },
      "source": [
        "model.summary()"
      ],
      "execution_count": null,
      "outputs": [
        {
          "output_type": "stream",
          "text": [
            "Model: \"sequential_3\"\n",
            "_________________________________________________________________\n",
            "Layer (type)                 Output Shape              Param #   \n",
            "=================================================================\n",
            "flatten_3 (Flatten)          (None, 784)               0         \n",
            "_________________________________________________________________\n",
            "dense_6 (Dense)              (None, 64)                50240     \n",
            "_________________________________________________________________\n",
            "dense_7 (Dense)              (None, 10)                650       \n",
            "=================================================================\n",
            "Total params: 50,890\n",
            "Trainable params: 50,890\n",
            "Non-trainable params: 0\n",
            "_________________________________________________________________\n"
          ],
          "name": "stdout"
        }
      ]
    },
    {
      "cell_type": "code",
      "metadata": {
        "id": "Y1xXUCvq5y3s",
        "colab_type": "code",
        "colab": {}
      },
      "source": [
        "# i know just for scripting...\n",
        "fLayer1.close()\n",
        "fLayer2.close()"
      ],
      "execution_count": null,
      "outputs": []
    },
    {
      "cell_type": "code",
      "metadata": {
        "id": "UuhSN2Eo5y3u",
        "colab_type": "code",
        "colab": {}
      },
      "source": [
        ""
      ],
      "execution_count": null,
      "outputs": []
    }
  ]
}